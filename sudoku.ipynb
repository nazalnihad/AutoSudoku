{
  "cells": [
    {
      "cell_type": "markdown",
      "metadata": {
        "id": "view-in-github",
        "colab_type": "text"
      },
      "source": [
        "<a href=\"https://colab.research.google.com/github/nazalnihad/AutoSudoku/blob/main/sudoku.ipynb\" target=\"_parent\"><img src=\"https://colab.research.google.com/assets/colab-badge.svg\" alt=\"Open In Colab\"/></a>"
      ]
    },
    {
      "cell_type": "code",
      "execution_count": null,
      "metadata": {
        "id": "ZS_xUACitxCC"
      },
      "outputs": [],
      "source": [
        "import cv2\n",
        "import numpy as np\n"
      ]
    },
    {
      "cell_type": "code",
      "execution_count": null,
      "metadata": {
        "colab": {
          "base_uri": "https://localhost:8080/"
        },
        "id": "CJCCjHXlphB6",
        "outputId": "e022fd9c-9d77-4d9f-ee2a-f1b6f7aed1e0"
      },
      "outputs": [
        {
          "output_type": "stream",
          "name": "stdout",
          "text": [
            "Mounted at /content/drive\n"
          ]
        }
      ],
      "source": [
        "from google.colab import drive\n",
        "drive.mount('/content/drive')"
      ]
    },
    {
      "cell_type": "code",
      "execution_count": null,
      "metadata": {
        "id": "55VB4JT4zUQ8"
      },
      "outputs": [],
      "source": [
        "from google.colab.patches import cv2_imshow"
      ]
    },
    {
      "cell_type": "code",
      "execution_count": null,
      "metadata": {
        "id": "od5HpRjpuCIP"
      },
      "outputs": [],
      "source": [
        "img = cv2.imread('/content/drive/MyDrive/sudoku_img.png')\n",
        "gray_image = cv2.cvtColor(img, cv2.COLOR_BGR2GRAY)\n",
        "blur = cv2.GaussianBlur(gray_image,(5,5),1)\n",
        "thresh_hold = cv2.adaptiveThreshold(blur,255,1,1,11,2)"
      ]
    },
    {
      "cell_type": "code",
      "execution_count": null,
      "metadata": {
        "colab": {
          "base_uri": "https://localhost:8080/",
          "height": 618
        },
        "id": "PsQP5tfqvPf1",
        "outputId": "62afec97-8ef5-4f6d-a277-7ec196a4463d"
      },
      "outputs": [
        {
          "output_type": "execute_result",
          "data": {
            "text/plain": [
              "array([[0, 0, 0, ..., 0, 0, 0],\n",
              "       [0, 0, 0, ..., 0, 0, 0],\n",
              "       [0, 0, 0, ..., 0, 0, 0],\n",
              "       ...,\n",
              "       [0, 0, 0, ..., 0, 0, 0],\n",
              "       [0, 0, 0, ..., 0, 0, 0],\n",
              "       [0, 0, 0, ..., 0, 0, 0]], dtype=uint8)"
            ],
            "text/html": [
              "<style>\n",
              "      .ndarray_repr .ndarray_raw_data {\n",
              "        display: none;\n",
              "      }\n",
              "      .ndarray_repr.show_array .ndarray_raw_data {\n",
              "        display: block;\n",
              "      }\n",
              "      .ndarray_repr.show_array .ndarray_image_preview {\n",
              "        display: none;\n",
              "      }\n",
              "      </style>\n",
              "      <div id=\"id-303a74ae-1178-4639-bf16-78c02ad5710c\" class=\"ndarray_repr\"><pre>ndarray (577, 608) <button style=\"padding: 0 2px;\">show data</button></pre><img src=\"data:image/png;base64,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\" class=\"ndarray_image_preview\" /><pre class=\"ndarray_raw_data\">array([[0, 0, 0, ..., 0, 0, 0],\n",
              "       [0, 0, 0, ..., 0, 0, 0],\n",
              "       [0, 0, 0, ..., 0, 0, 0],\n",
              "       ...,\n",
              "       [0, 0, 0, ..., 0, 0, 0],\n",
              "       [0, 0, 0, ..., 0, 0, 0],\n",
              "       [0, 0, 0, ..., 0, 0, 0]], dtype=uint8)</pre></div><script>\n",
              "      (() => {\n",
              "      const titles = ['show data', 'hide data'];\n",
              "      let index = 0\n",
              "      document.querySelector('#id-303a74ae-1178-4639-bf16-78c02ad5710c button').onclick = (e) => {\n",
              "        document.querySelector('#id-303a74ae-1178-4639-bf16-78c02ad5710c').classList.toggle('show_array');\n",
              "        index = (++index) % 2;\n",
              "        document.querySelector('#id-303a74ae-1178-4639-bf16-78c02ad5710c button').textContent = titles[index];\n",
              "        e.preventDefault();\n",
              "        e.stopPropagation();\n",
              "      }\n",
              "      })();\n",
              "    </script>"
            ]
          },
          "metadata": {},
          "execution_count": 6
        }
      ],
      "source": [
        "thresh_hold"
      ]
    },
    {
      "cell_type": "code",
      "execution_count": null,
      "metadata": {
        "colab": {
          "base_uri": "https://localhost:8080/",
          "height": 618
        },
        "id": "gHKWpgfeveAJ",
        "outputId": "135eb8b4-b9c5-4860-c9f7-9067552a7860"
      },
      "outputs": [
        {
          "output_type": "execute_result",
          "data": {
            "text/plain": [
              "array([[[255, 255, 255],\n",
              "        [255, 255, 255],\n",
              "        [255, 255, 255],\n",
              "        ...,\n",
              "        [255, 255, 255],\n",
              "        [255, 255, 255],\n",
              "        [255, 255, 255]],\n",
              "\n",
              "       [[255, 255, 255],\n",
              "        [255, 255, 255],\n",
              "        [255, 255, 255],\n",
              "        ...,\n",
              "        [255, 255, 255],\n",
              "        [255, 255, 255],\n",
              "        [255, 255, 255]],\n",
              "\n",
              "       [[255, 255, 255],\n",
              "        [255, 255, 255],\n",
              "        [255, 255, 255],\n",
              "        ...,\n",
              "        [255, 255, 255],\n",
              "        [255, 255, 255],\n",
              "        [255, 255, 255]],\n",
              "\n",
              "       ...,\n",
              "\n",
              "       [[255, 255, 255],\n",
              "        [255, 255, 255],\n",
              "        [255, 255, 255],\n",
              "        ...,\n",
              "        [255, 255, 255],\n",
              "        [255, 255, 255],\n",
              "        [255, 255, 255]],\n",
              "\n",
              "       [[255, 255, 255],\n",
              "        [255, 255, 255],\n",
              "        [255, 255, 255],\n",
              "        ...,\n",
              "        [255, 255, 255],\n",
              "        [255, 255, 255],\n",
              "        [255, 255, 255]],\n",
              "\n",
              "       [[255, 255, 255],\n",
              "        [255, 255, 255],\n",
              "        [255, 255, 255],\n",
              "        ...,\n",
              "        [255, 255, 255],\n",
              "        [255, 255, 255],\n",
              "        [255, 255, 255]]], dtype=uint8)"
            ],
            "text/html": [
              "<style>\n",
              "      .ndarray_repr .ndarray_raw_data {\n",
              "        display: none;\n",
              "      }\n",
              "      .ndarray_repr.show_array .ndarray_raw_data {\n",
              "        display: block;\n",
              "      }\n",
              "      .ndarray_repr.show_array .ndarray_image_preview {\n",
              "        display: none;\n",
              "      }\n",
              "      </style>\n",
              "      <div id=\"id-bf89c335-db34-4262-a63f-222624190ed3\" class=\"ndarray_repr\"><pre>ndarray (577, 608, 3) <button style=\"padding: 0 2px;\">show data</button></pre><img src=\"data:image/png;base64,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\" class=\"ndarray_image_preview\" /><pre class=\"ndarray_raw_data\">array([[[255, 255, 255],\n",
              "        [255, 255, 255],\n",
              "        [255, 255, 255],\n",
              "        ...,\n",
              "        [255, 255, 255],\n",
              "        [255, 255, 255],\n",
              "        [255, 255, 255]],\n",
              "\n",
              "       [[255, 255, 255],\n",
              "        [255, 255, 255],\n",
              "        [255, 255, 255],\n",
              "        ...,\n",
              "        [255, 255, 255],\n",
              "        [255, 255, 255],\n",
              "        [255, 255, 255]],\n",
              "\n",
              "       [[255, 255, 255],\n",
              "        [255, 255, 255],\n",
              "        [255, 255, 255],\n",
              "        ...,\n",
              "        [255, 255, 255],\n",
              "        [255, 255, 255],\n",
              "        [255, 255, 255]],\n",
              "\n",
              "       ...,\n",
              "\n",
              "       [[255, 255, 255],\n",
              "        [255, 255, 255],\n",
              "        [255, 255, 255],\n",
              "        ...,\n",
              "        [255, 255, 255],\n",
              "        [255, 255, 255],\n",
              "        [255, 255, 255]],\n",
              "\n",
              "       [[255, 255, 255],\n",
              "        [255, 255, 255],\n",
              "        [255, 255, 255],\n",
              "        ...,\n",
              "        [255, 255, 255],\n",
              "        [255, 255, 255],\n",
              "        [255, 255, 255]],\n",
              "\n",
              "       [[255, 255, 255],\n",
              "        [255, 255, 255],\n",
              "        [255, 255, 255],\n",
              "        ...,\n",
              "        [255, 255, 255],\n",
              "        [255, 255, 255],\n",
              "        [255, 255, 255]]], dtype=uint8)</pre></div><script>\n",
              "      (() => {\n",
              "      const titles = ['show data', 'hide data'];\n",
              "      let index = 0\n",
              "      document.querySelector('#id-bf89c335-db34-4262-a63f-222624190ed3 button').onclick = (e) => {\n",
              "        document.querySelector('#id-bf89c335-db34-4262-a63f-222624190ed3').classList.toggle('show_array');\n",
              "        index = (++index) % 2;\n",
              "        document.querySelector('#id-bf89c335-db34-4262-a63f-222624190ed3 button').textContent = titles[index];\n",
              "        e.preventDefault();\n",
              "        e.stopPropagation();\n",
              "      }\n",
              "      })();\n",
              "    </script>"
            ]
          },
          "metadata": {},
          "execution_count": 7
        }
      ],
      "source": [
        "img_with_contour = img.copy()\n",
        "img_big_contour = img.copy()\n",
        "contours , hierarchy = cv2.findContours(thresh_hold,cv2.RETR_EXTERNAL,cv2.CHAIN_APPROX_SIMPLE)\n",
        "cv2.drawContours(img_with_contour,contours,-1,(0,255,0),3)"
      ]
    },
    {
      "cell_type": "code",
      "execution_count": null,
      "metadata": {
        "id": "rthpbDb7zzXn"
      },
      "outputs": [],
      "source": [
        "def largestContour(contours):\n",
        "  largest = np.array([])\n",
        "  max_area = 0\n",
        "\n",
        "  for i in contours:\n",
        "    area = cv2.contourArea(i)\n",
        "\n",
        "    if area>50:\n",
        "      peri = cv2.arcLength(i,True)\n",
        "      approx = cv2.approxPolyDP(i,0.02*peri,True)\n",
        "\n",
        "      if area > max_area and len(approx)==4:\n",
        "        largest = approx\n",
        "        max_area = area\n",
        "  return largest , max_area"
      ]
    },
    {
      "cell_type": "code",
      "execution_count": null,
      "metadata": {
        "id": "PhjdrB6qBJOQ"
      },
      "outputs": [],
      "source": [
        "def reorder(points):\n",
        "  points = points.reshape((4,2))\n",
        "  newPoints = np.zeros((4,1,2),dtype=np.int32)\n",
        "  add = points.sum(1)\n",
        "  newPoints[0]=points[np.argmin(add)]\n",
        "  newPoints[3]=points[np.argmax(add)]\n",
        "  diff = np.diff(points,axis=1)\n",
        "  newPoints[1]=points[np.argmin(diff)]\n",
        "  newPoints[2]=points[np.argmax(diff)]\n",
        "\n",
        "  return newPoints"
      ]
    },
    {
      "cell_type": "code",
      "execution_count": null,
      "metadata": {
        "id": "eUrHhL5-vRwq"
      },
      "outputs": [],
      "source": [
        "widthImg = 450\n",
        "heightImg = 450"
      ]
    },
    {
      "cell_type": "code",
      "execution_count": null,
      "metadata": {
        "colab": {
          "base_uri": "https://localhost:8080/"
        },
        "id": "erquH-y2DIpz",
        "outputId": "6c8e0a5a-ae3f-41b4-ab19-0821b370e03b"
      },
      "outputs": [
        {
          "output_type": "stream",
          "name": "stdout",
          "text": [
            "[[[ 55  30]]\n",
            "\n",
            " [[ 53 561]]\n",
            "\n",
            " [[585 563]]\n",
            "\n",
            " [[587  32]]]\n"
          ]
        }
      ],
      "source": [
        "biggest , maxArea = largestContour(contours)\n",
        "print(biggest)\n",
        "\n",
        "if biggest.size!=0:\n",
        "  biggest = reorder(biggest)\n",
        "  cv2.drawContours(img_big_contour,biggest,-1,(0,0,255),20)\n",
        "  pts1 = np.float32(biggest)\n",
        "  pts2 = np.float32([[0,0],[widthImg,0],[0,heightImg],[widthImg,heightImg]])\n",
        "  matrix = cv2.getPerspectiveTransform(pts1,pts2)\n",
        "  imgWarpColored = cv2.warpPerspective(img,matrix,(widthImg,heightImg))\n",
        "  # imgDetectedDigits = imgBlank.copy()\n",
        "  imgWarpColored = cv2.cvtColor(imgWarpColored,cv2.COLOR_BGR2GRAY)"
      ]
    },
    {
      "cell_type": "code",
      "execution_count": null,
      "metadata": {
        "id": "BQOaY6TSxSpe"
      },
      "outputs": [],
      "source": [
        "def splitBoxes(img):\n",
        "  rows = np.vsplit(img,9)\n",
        "  boxes = []\n",
        "  for r in rows:\n",
        "    cols = np.hsplit(r,9)\n",
        "    for box in cols:\n",
        "      boxes.append(box)\n",
        "  return boxes"
      ]
    },
    {
      "cell_type": "code",
      "execution_count": null,
      "metadata": {
        "colab": {
          "base_uri": "https://localhost:8080/",
          "height": 67
        },
        "id": "xIFkvrR5yWKV",
        "outputId": "16ea523e-bd2b-459b-f36c-9d63a423040e"
      },
      "outputs": [
        {
          "output_type": "display_data",
          "data": {
            "text/plain": [
              "<PIL.Image.Image image mode=L size=50x50>"
            ],
            "image/png": "[encoded data removed]"
          },
          "metadata": {}
        }
      ],
      "source": [
        "boxes = splitBoxes(imgWarpColored)\n",
        "cv2_imshow(boxes[72])"
      ]
    },
    {
      "cell_type": "code",
      "execution_count": null,
      "metadata": {
        "id": "IvlN3rR_z1aH"
      },
      "outputs": [],
      "source": [
        "from PIL import Image"
      ]
    },
    {
      "cell_type": "code",
      "source": [
        "import numpy as np\n",
        "import tensorflow as tf\n",
        "from tensorflow.keras.datasets import mnist\n",
        "\n",
        "# Load and preprocess the MNIST dataset\n",
        "(x_train, y_train), (x_test, y_test) = mnist.load_data()\n",
        "x_train, x_test = x_train / 255.0, x_test / 255.0  # Normalize pixel values\n",
        "\n",
        "# Define the model\n",
        "model = tf.keras.models.Sequential([\n",
        "    tf.keras.layers.Flatten(input_shape=(28, 28)),\n",
        "    tf.keras.layers.Dense(128, activation='relu'),\n",
        "    tf.keras.layers.Dropout(0.2),\n",
        "    tf.keras.layers.Dense(10)\n",
        "])\n",
        "\n",
        "# Compile the model\n",
        "model.compile(optimizer='adam',\n",
        "              loss=tf.keras.losses.SparseCategoricalCrossentropy(from_logits=True),\n",
        "              metrics=['accuracy'])\n",
        "\n",
        "# Train the model\n",
        "model.fit(x_train, y_train, epochs=5, validation_data=(x_test, y_test))\n",
        "\n",
        "# Evaluate the model on the test set\n",
        "test_loss, test_acc = model.evaluate(x_test, y_test, verbose=2)\n",
        "print('\\nTest accuracy:', test_acc)\n",
        "\n",
        "# Make predictions on the test set\n",
        "predictions = model.predict(x_test)\n",
        "predicted_labels = np.argmax(predictions, axis=1)\n",
        "\n",
        "# Show some predictions\n",
        "for i in range(10):\n",
        "    print(\"Predicted:\", predicted_labels[i], \"Actual:\", y_test[i])\n"
      ],
      "metadata": {
        "colab": {
          "base_uri": "https://localhost:8080/"
        },
        "id": "61wiDeMAYwri",
        "outputId": "e9883505-d6d1-4012-e1cd-16b099836d0c"
      },
      "execution_count": null,
      "outputs": [
        {
          "output_type": "stream",
          "name": "stdout",
          "text": [
            "Downloading data from https://storage.googleapis.com/tensorflow/tf-keras-datasets/mnist.npz\n",
            "11490434/11490434 [==============================] - 0s 0us/step\n",
            "Epoch 1/5\n",
            "1875/1875 [==============================] - 9s 5ms/step - loss: 0.2937 - accuracy: 0.9138 - val_loss: 0.1416 - val_accuracy: 0.9600\n",
            "Epoch 2/5\n",
            "1875/1875 [==============================] - 9s 5ms/step - loss: 0.1425 - accuracy: 0.9577 - val_loss: 0.1000 - val_accuracy: 0.9710\n",
            "Epoch 3/5\n",
            "1875/1875 [==============================] - 9s 5ms/step - loss: 0.1073 - accuracy: 0.9677 - val_loss: 0.0848 - val_accuracy: 0.9755\n",
            "Epoch 4/5\n",
            "1875/1875 [==============================] - 8s 4ms/step - loss: 0.0874 - accuracy: 0.9732 - val_loss: 0.0839 - val_accuracy: 0.9758\n",
            "Epoch 5/5\n",
            "1875/1875 [==============================] - 10s 5ms/step - loss: 0.0748 - accuracy: 0.9765 - val_loss: 0.0722 - val_accuracy: 0.9779\n",
            "313/313 - 1s - loss: 0.0722 - accuracy: 0.9779 - 509ms/epoch - 2ms/step\n",
            "\n",
            "Test accuracy: 0.9779000282287598\n",
            "313/313 [==============================] - 1s 2ms/step\n",
            "Predicted: 7 Actual: 7\n",
            "Predicted: 2 Actual: 2\n",
            "Predicted: 1 Actual: 1\n",
            "Predicted: 0 Actual: 0\n",
            "Predicted: 4 Actual: 4\n",
            "Predicted: 1 Actual: 1\n",
            "Predicted: 4 Actual: 4\n",
            "Predicted: 9 Actual: 9\n",
            "Predicted: 5 Actual: 5\n",
            "Predicted: 9 Actual: 9\n"
          ]
        }
      ]
    },
    {
      "cell_type": "code",
      "source": [
        "boxes[72]"
      ],
      "metadata": {
        "colab": {
          "base_uri": "https://localhost:8080/",
          "height": 91
        },
        "id": "nh6MIqO4d4t_",
        "outputId": "79e63594-ab62-446c-b49c-1284e0d2481c"
      },
      "execution_count": null,
      "outputs": [
        {
          "output_type": "execute_result",
          "data": {
            "text/plain": [
              "array([[214,  69, 146, ..., 207, 207, 207],\n",
              "       [214,  69, 155, ..., 233, 233, 233],\n",
              "       [214,  69, 150, ..., 233, 233, 233],\n",
              "       ...,\n",
              "       [255,  69, 123, ..., 233, 233, 233],\n",
              "       [255,  69, 123, ..., 233, 233, 233],\n",
              "       [255,  69, 122, ..., 209, 209, 209]], dtype=uint8)"
            ],
            "text/html": [
              "<style>\n",
              "      .ndarray_repr .ndarray_raw_data {\n",
              "        display: none;\n",
              "      }\n",
              "      .ndarray_repr.show_array .ndarray_raw_data {\n",
              "        display: block;\n",
              "      }\n",
              "      .ndarray_repr.show_array .ndarray_image_preview {\n",
              "        display: none;\n",
              "      }\n",
              "      </style>\n",
              "      <div id=\"id-aea0a5a8-0658-4dd8-9111-f7984aac3da4\" class=\"ndarray_repr\"><pre>ndarray (50, 50) <button style=\"padding: 0 2px;\">show data</button></pre><img src=\"data:image/png;base64,iVBORw0KGgoAAAANSUhEUgAAADIAAAAyCAAAAAA7VNdtAAACHklEQVR4nL2Wz0sUYRjHPzPzTu5qubjtwYU2gyDCYhMsI/UU0SEoumUYSKegguhvqA6dCgK7CUWFhw36danQKCQ7ZASKCxUdNJWaalV2sd1pZzpku/bOK7Mzh30uM8887+f9zvvMM8/7atMXjnZpAFDjRUB0i0kQ08EOBIAecHxIZENdVMIhbmDkdwiVgCbWee4US2BEVGGhTvLs/KtpW0se2L21oTYV99nIPE2tS9/uj/b01YY8zLD9ULQ5X3439uTHuVqQR4/Z158AaN97a3zjgBRWJLk0U4ycTwDQ1NmjT/7yIrK9eMNN459zIvr1tj8CLVr1/qC7XJAQb5IF6TXIEWam/FRcB3MNIsgt+CGaTtapunlc5/8BikrWmFupelc9cyqWn0gwUnE+5VoUiNxh0r0i83pVeXKwsb0GFfanGLr3AcgN3/l5ekEOqyo5dfbu+6dvY9glK3KmY9CDKFRIXrSuWBbovQMNlOQ3V/9iRusNcDUAxzGj/mtZtb/fM0tyj69KwSJVKUseEEt5VOQk50eHvlScuVlzl+5BZIubn69VnEyh8bAUV1SyuUl8v14GwB6e0PrlEaqMHc8/n7jcJ7RiaXzMTHfLYWWSTxkvP17SYovQ1nHMExWoevLJtuWp7CI7OnduM5SIwrrLXUtlmjd7ARDrtHEjHldPFm5/CbaBh1UJhwTf+EKo1ONAUpfThQB3pQhy3tSeDfAHwy+PdbsetsoAAAAASUVORK5CYII=\" class=\"ndarray_image_preview\" /><pre class=\"ndarray_raw_data\">array([[214,  69, 146, ..., 207, 207, 207],\n",
              "       [214,  69, 155, ..., 233, 233, 233],\n",
              "       [214,  69, 150, ..., 233, 233, 233],\n",
              "       ...,\n",
              "       [255,  69, 123, ..., 233, 233, 233],\n",
              "       [255,  69, 123, ..., 233, 233, 233],\n",
              "       [255,  69, 122, ..., 209, 209, 209]], dtype=uint8)</pre></div><script>\n",
              "      (() => {\n",
              "      const titles = ['show data', 'hide data'];\n",
              "      let index = 0\n",
              "      document.querySelector('#id-aea0a5a8-0658-4dd8-9111-f7984aac3da4 button').onclick = (e) => {\n",
              "        document.querySelector('#id-aea0a5a8-0658-4dd8-9111-f7984aac3da4').classList.toggle('show_array');\n",
              "        index = (++index) % 2;\n",
              "        document.querySelector('#id-aea0a5a8-0658-4dd8-9111-f7984aac3da4 button').textContent = titles[index];\n",
              "        e.preventDefault();\n",
              "        e.stopPropagation();\n",
              "      }\n",
              "      })();\n",
              "    </script>"
            ]
          },
          "metadata": {},
          "execution_count": 41
        }
      ]
    },
    {
      "cell_type": "code",
      "source": [
        "img = Image.fromarray(boxes[72]).convert('L')  # Convert to grayscale\n",
        "img = img.resize((28, 28), Image.ANTIALIAS)\n",
        "img_array = np.array(img) / 255.0  # Normalize pixel values\n",
        "img_array = img_array.reshape((1, 28, 28))\n",
        "model.predict(img_array)\n",
        "predicted_labels = np.argmax(predictions)\n",
        "predicted_labels"
      ],
      "metadata": {
        "colab": {
          "base_uri": "https://localhost:8080/"
        },
        "id": "fsWngprgdj2a",
        "outputId": "83b0772b-bd77-48e5-a010-e35dd7bc24e9"
      },
      "execution_count": null,
      "outputs": [
        {
          "output_type": "stream",
          "name": "stdout",
          "text": [
            "1/1 [==============================] - 0s 22ms/step\n"
          ]
        },
        {
          "output_type": "stream",
          "name": "stderr",
          "text": [
            "<ipython-input-43-a0141e1618bf>:2: DeprecationWarning: ANTIALIAS is deprecated and will be removed in Pillow 10 (2023-07-01). Use LANCZOS or Resampling.LANCZOS instead.\n",
            "  img = img.resize((28, 28), Image.ANTIALIAS)\n"
          ]
        },
        {
          "output_type": "execute_result",
          "data": {
            "text/plain": [
              "72"
            ]
          },
          "metadata": {},
          "execution_count": 43
        }
      ]
    },
    {
      "cell_type": "code",
      "source": [
        "import numpy as np\n",
        "from PIL import Image\n",
        "import tensorflow as tf\n",
        "from tensorflow.keras.datasets import mnist\n",
        "\n",
        "# Load and preprocess the MNIST dataset\n",
        "(x_train, y_train), (x_test, y_test) = mnist.load_data()\n",
        "x_train, x_test = x_train / 255.0, x_test / 255.0  # Normalize pixel values\n",
        "\n",
        "# Define the model\n",
        "model = tf.keras.models.Sequential([\n",
        "    tf.keras.layers.Flatten(input_shape=(28, 28)),\n",
        "    tf.keras.layers.Dense(128, activation='relu'),\n",
        "    tf.keras.layers.Dropout(0.2),\n",
        "    tf.keras.layers.Dense(10)\n",
        "])\n",
        "\n",
        "# Compile the model\n",
        "model.compile(optimizer='adam',\n",
        "              loss=tf.keras.losses.SparseCategoricalCrossentropy(from_logits=True),\n",
        "              metrics=['accuracy'])\n",
        "\n",
        "# Train the model (skip this step if you already have a trained model)\n",
        "# model.fit(x_train, y_train, epochs=5, validation_data=(x_test, y_test))\n",
        "\n",
        "# Evaluate the model on the test set\n",
        "test_loss, test_acc = model.evaluate(x_test, y_test, verbose=2)\n",
        "print('\\nTest accuracy:', test_acc)\n",
        "\n",
        "# Preprocess your boxes and predict\n"
      ],
      "metadata": {
        "id": "-qGnJpVbZbU1"
      },
      "execution_count": null,
      "outputs": []
    },
    {
      "cell_type": "code",
      "source": [
        "\n",
        "img_72 = boxes[72]\n",
        "img = Image.fromarray(img_72)\n",
        "resized_img = img.resize((28, 28), Image.ANTIALIAS)\n",
        "reshaped_img_72 = np.array(resized_img)\n",
        "\n",
        "reshaped_img_72\n"
      ],
      "metadata": {
        "colab": {
          "base_uri": "https://localhost:8080/",
          "height": 103
        },
        "id": "diUY2gSzh69I",
        "outputId": "eb3a28dc-2fe4-4b81-c542-760364f86a9a"
      },
      "execution_count": null,
      "outputs": [
        {
          "output_type": "stream",
          "name": "stderr",
          "text": [
            "<ipython-input-56-58e0f6b9d9f3>:3: DeprecationWarning: ANTIALIAS is deprecated and will be removed in Pillow 10 (2023-07-01). Use LANCZOS or Resampling.LANCZOS instead.\n",
            "  resized_img = img.resize((28, 28), Image.ANTIALIAS)\n"
          ]
        },
        {
          "output_type": "execute_result",
          "data": {
            "text/plain": [
              "array([[142, 147, 225, 214, 216, 216, 216, 216, 216, 216, 217, 217, 217,\n",
              "        217, 217, 217, 217, 217, 218, 218, 218, 218, 218, 218, 218, 218,\n",
              "        219, 219],\n",
              "       [141, 153, 245, 233, 235, 235, 235, 235, 235, 235, 235, 235, 235,\n",
              "        235, 235, 235, 235, 235, 235, 235, 235, 235, 235, 235, 235, 235,\n",
              "        235, 235],\n",
              "       [142, 152, 242, 230, 232, 232, 232, 232, 232, 232, 233, 233, 233,\n",
              "        233, 233, 233, 233, 233, 233, 233, 233, 233, 233, 233, 233, 233,\n",
              "        233, 233],\n",
              "       [144, 152, 243, 231, 233, 233, 233, 233, 233, 233, 233, 233, 233,\n",
              "        233, 233, 233, 233, 233, 233, 233, 233, 233, 233, 233, 233, 233,\n",
              "        233, 233],\n",
              "       [144, 151, 243, 231, 233, 233, 233, 233, 233, 233, 233, 233, 233,\n",
              "        232, 231, 231, 232, 233, 233, 233, 233, 233, 233, 233, 233, 233,\n",
              "        233, 233],\n",
              "       [144, 149, 243, 231, 233, 233, 233, 233, 233, 233, 233, 232, 232,\n",
              "        238, 244, 243, 237, 232, 233, 233, 233, 233, 233, 233, 233, 233,\n",
              "        233, 233],\n",
              "       [145, 149, 243, 231, 233, 233, 233, 233, 233, 233, 232, 236, 238,\n",
              "        207, 175, 176, 211, 240, 234, 232, 233, 233, 233, 233, 233, 233,\n",
              "        233, 233],\n",
              "       [147, 149, 243, 231, 233, 233, 233, 233, 233, 232, 237, 220, 124,\n",
              "         84,  87,  85,  84, 141, 234, 234, 233, 233, 233, 233, 233, 233,\n",
              "        233, 233],\n",
              "       [147, 149, 243, 231, 233, 233, 233, 233, 232, 235, 228,  99,  84,\n",
              "        197, 223, 222, 188,  83, 132, 240, 232, 233, 233, 233, 233, 233,\n",
              "        233, 233],\n",
              "       [147, 146, 243, 231, 233, 233, 233, 233, 231, 241, 161,  72, 215,\n",
              "        245, 234, 234, 248, 194,  66, 196, 240, 231, 233, 233, 233, 233,\n",
              "        233, 233],\n",
              "       [148, 146, 243, 231, 233, 233, 233, 233, 232, 241, 124, 120, 248,\n",
              "        229, 232, 232, 231, 239, 109, 132, 240, 232, 233, 233, 233, 233,\n",
              "        233, 233],\n",
              "       [150, 146, 244, 231, 233, 233, 233, 233, 232, 241, 131, 133, 241,\n",
              "        231, 233, 233, 229, 247, 144,  88, 230, 235, 232, 233, 233, 233,\n",
              "        233, 233],\n",
              "       [150, 146, 243, 231, 233, 233, 233, 233, 232, 242, 129,  97, 244,\n",
              "        231, 231, 230, 235, 233,  90,  93, 227, 235, 232, 233, 233, 233,\n",
              "        233, 233],\n",
              "       [150, 144, 243, 231, 233, 233, 233, 233, 232, 239, 186,  68, 172,\n",
              "        246, 244, 246, 239, 146,  82, 106, 225, 235, 232, 233, 233, 233,\n",
              "        233, 233],\n",
              "       [151, 143, 243, 231, 233, 233, 233, 233, 233, 233, 237, 145,  68,\n",
              "        127, 168, 166, 109, 119, 141,  93, 228, 235, 232, 233, 233, 233,\n",
              "        233, 233],\n",
              "       [153, 143, 244, 231, 233, 233, 233, 233, 233, 233, 234, 238, 194,\n",
              "        115, 115, 110, 146, 246, 147,  82, 228, 235, 232, 233, 233, 233,\n",
              "        233, 233],\n",
              "       [153, 143, 244, 231, 233, 233, 233, 233, 233, 233, 231, 235, 240,\n",
              "        246, 246, 247, 243, 242, 118, 121, 238, 233, 233, 233, 233, 233,\n",
              "        233, 233],\n",
              "       [153, 141, 244, 231, 233, 233, 233, 233, 232, 238, 194, 146, 232,\n",
              "        231, 228, 227, 238, 212,  69, 176, 243, 231, 233, 233, 233, 233,\n",
              "        233, 233],\n",
              "       [155, 139, 244, 231, 233, 233, 233, 233, 232, 238, 205,  63, 147,\n",
              "        247, 242, 244, 236, 111,  96, 232, 233, 233, 233, 233, 233, 233,\n",
              "        233, 233],\n",
              "       [156, 139, 244, 231, 233, 233, 233, 233, 233, 232, 238, 169,  66,\n",
              "        120, 149, 143, 104,  86, 200, 239, 232, 233, 233, 233, 233, 233,\n",
              "        233, 233],\n",
              "       [156, 139, 244, 231, 233, 233, 233, 233, 233, 233, 233, 240, 193,\n",
              "        135,  94,  96, 153, 220, 238, 231, 233, 233, 233, 233, 233, 233,\n",
              "        233, 233],\n",
              "       [156, 138, 244, 231, 233, 233, 233, 233, 233, 233, 233, 232, 240,\n",
              "        241, 234, 235, 241, 236, 232, 233, 233, 233, 233, 233, 233, 233,\n",
              "        233, 233],\n",
              "       [158, 137, 244, 231, 233, 233, 233, 233, 233, 233, 233, 233, 231,\n",
              "        232, 233, 233, 231, 232, 233, 233, 233, 233, 233, 233, 233, 233,\n",
              "        233, 233],\n",
              "       [159, 137, 244, 231, 233, 233, 233, 233, 233, 233, 233, 233, 233,\n",
              "        233, 233, 233, 233, 233, 233, 233, 233, 233, 233, 233, 233, 233,\n",
              "        233, 233],\n",
              "       [159, 136, 243, 231, 233, 233, 233, 233, 233, 233, 233, 233, 233,\n",
              "        233, 233, 233, 233, 233, 233, 233, 233, 233, 233, 233, 233, 233,\n",
              "        233, 233],\n",
              "       [158, 134, 244, 231, 233, 233, 233, 233, 233, 233, 233, 233, 233,\n",
              "        233, 233, 233, 233, 233, 233, 233, 233, 233, 233, 233, 233, 233,\n",
              "        233, 233],\n",
              "       [161, 133, 245, 232, 234, 234, 234, 234, 234, 234, 234, 234, 234,\n",
              "        234, 234, 234, 234, 234, 234, 234, 234, 234, 234, 234, 234, 235,\n",
              "        235, 235],\n",
              "       [162, 131, 236, 222, 224, 224, 224, 224, 224, 224, 224, 224, 224,\n",
              "        223, 223, 223, 223, 223, 223, 223, 223, 223, 223, 223, 223, 221,\n",
              "        220, 220]], dtype=uint8)"
            ],
            "text/html": [
              "<style>\n",
              "      .ndarray_repr .ndarray_raw_data {\n",
              "        display: none;\n",
              "      }\n",
              "      .ndarray_repr.show_array .ndarray_raw_data {\n",
              "        display: block;\n",
              "      }\n",
              "      .ndarray_repr.show_array .ndarray_image_preview {\n",
              "        display: none;\n",
              "      }\n",
              "      </style>\n",
              "      <div id=\"id-ea2d15ff-a5ce-46cc-af32-b057599cbdbe\" class=\"ndarray_repr\"><pre>ndarray (28, 28) <button style=\"padding: 0 2px;\">show data</button></pre><img src=\"data:image/png;base64,iVBORw0KGgoAAAANSUhEUgAAABwAAAAcCAAAAABXZoBIAAABf0lEQVR4nHWSvy8EURDHZ2bfrgu5EFEIIREREb8uIeFCIVGo+A90KtHwB6DTUSIanSi0olT5WZBQkBPxIzrxK253b9e+Udy+9/aOm2Sz++azs9+d7wyu2lN5AgAABCi7C3YaUgT/h0COIi6pSEACxL/pGAInTsyQfFOANAgch4PQUGEeWdDjA7a3BFLlhP5Ttt+3byzJ2WlSSkIzy1v5nG/i+3VvzkcFoxg6+y9rrXkYdZbHerzi98j4kcu0fUj53tt9qFom0s1XpQuEKFPt165VVCVQjaK8s0BGzteZHSsB6T6j7PNBbbpO7PpplRKoCoOByY2rLnlcPXJpqUqjGU0vfp+fdCw5eWOfjgj7BgF/fp47q2MLtSbbuR3/8+01fLoYsqWyTxtfs4czIflbzcMulRmPQdvs5ktLcPu2UFXQ9qnAcKLx6JSy4/W+GkZy2H5/poBOGOhBCTIQPUR28d9hA1B8mTMnl6g0iGWl3QMQFldYTQQQKD3X7FECSoZf61KIdiNBZWoAAAAASUVORK5CYII=\" class=\"ndarray_image_preview\" /><pre class=\"ndarray_raw_data\">array([[142, 147, 225, 214, 216, 216, 216, 216, 216, 216, 217, 217, 217,\n",
              "        217, 217, 217, 217, 217, 218, 218, 218, 218, 218, 218, 218, 218,\n",
              "        219, 219],\n",
              "       [141, 153, 245, 233, 235, 235, 235, 235, 235, 235, 235, 235, 235,\n",
              "        235, 235, 235, 235, 235, 235, 235, 235, 235, 235, 235, 235, 235,\n",
              "        235, 235],\n",
              "       [142, 152, 242, 230, 232, 232, 232, 232, 232, 232, 233, 233, 233,\n",
              "        233, 233, 233, 233, 233, 233, 233, 233, 233, 233, 233, 233, 233,\n",
              "        233, 233],\n",
              "       [144, 152, 243, 231, 233, 233, 233, 233, 233, 233, 233, 233, 233,\n",
              "        233, 233, 233, 233, 233, 233, 233, 233, 233, 233, 233, 233, 233,\n",
              "        233, 233],\n",
              "       [144, 151, 243, 231, 233, 233, 233, 233, 233, 233, 233, 233, 233,\n",
              "        232, 231, 231, 232, 233, 233, 233, 233, 233, 233, 233, 233, 233,\n",
              "        233, 233],\n",
              "       [144, 149, 243, 231, 233, 233, 233, 233, 233, 233, 233, 232, 232,\n",
              "        238, 244, 243, 237, 232, 233, 233, 233, 233, 233, 233, 233, 233,\n",
              "        233, 233],\n",
              "       [145, 149, 243, 231, 233, 233, 233, 233, 233, 233, 232, 236, 238,\n",
              "        207, 175, 176, 211, 240, 234, 232, 233, 233, 233, 233, 233, 233,\n",
              "        233, 233],\n",
              "       [147, 149, 243, 231, 233, 233, 233, 233, 233, 232, 237, 220, 124,\n",
              "         84,  87,  85,  84, 141, 234, 234, 233, 233, 233, 233, 233, 233,\n",
              "        233, 233],\n",
              "       [147, 149, 243, 231, 233, 233, 233, 233, 232, 235, 228,  99,  84,\n",
              "        197, 223, 222, 188,  83, 132, 240, 232, 233, 233, 233, 233, 233,\n",
              "        233, 233],\n",
              "       [147, 146, 243, 231, 233, 233, 233, 233, 231, 241, 161,  72, 215,\n",
              "        245, 234, 234, 248, 194,  66, 196, 240, 231, 233, 233, 233, 233,\n",
              "        233, 233],\n",
              "       [148, 146, 243, 231, 233, 233, 233, 233, 232, 241, 124, 120, 248,\n",
              "        229, 232, 232, 231, 239, 109, 132, 240, 232, 233, 233, 233, 233,\n",
              "        233, 233],\n",
              "       [150, 146, 244, 231, 233, 233, 233, 233, 232, 241, 131, 133, 241,\n",
              "        231, 233, 233, 229, 247, 144,  88, 230, 235, 232, 233, 233, 233,\n",
              "        233, 233],\n",
              "       [150, 146, 243, 231, 233, 233, 233, 233, 232, 242, 129,  97, 244,\n",
              "        231, 231, 230, 235, 233,  90,  93, 227, 235, 232, 233, 233, 233,\n",
              "        233, 233],\n",
              "       [150, 144, 243, 231, 233, 233, 233, 233, 232, 239, 186,  68, 172,\n",
              "        246, 244, 246, 239, 146,  82, 106, 225, 235, 232, 233, 233, 233,\n",
              "        233, 233],\n",
              "       [151, 143, 243, 231, 233, 233, 233, 233, 233, 233, 237, 145,  68,\n",
              "        127, 168, 166, 109, 119, 141,  93, 228, 235, 232, 233, 233, 233,\n",
              "        233, 233],\n",
              "       [153, 143, 244, 231, 233, 233, 233, 233, 233, 233, 234, 238, 194,\n",
              "        115, 115, 110, 146, 246, 147,  82, 228, 235, 232, 233, 233, 233,\n",
              "        233, 233],\n",
              "       [153, 143, 244, 231, 233, 233, 233, 233, 233, 233, 231, 235, 240,\n",
              "        246, 246, 247, 243, 242, 118, 121, 238, 233, 233, 233, 233, 233,\n",
              "        233, 233],\n",
              "       [153, 141, 244, 231, 233, 233, 233, 233, 232, 238, 194, 146, 232,\n",
              "        231, 228, 227, 238, 212,  69, 176, 243, 231, 233, 233, 233, 233,\n",
              "        233, 233],\n",
              "       [155, 139, 244, 231, 233, 233, 233, 233, 232, 238, 205,  63, 147,\n",
              "        247, 242, 244, 236, 111,  96, 232, 233, 233, 233, 233, 233, 233,\n",
              "        233, 233],\n",
              "       [156, 139, 244, 231, 233, 233, 233, 233, 233, 232, 238, 169,  66,\n",
              "        120, 149, 143, 104,  86, 200, 239, 232, 233, 233, 233, 233, 233,\n",
              "        233, 233],\n",
              "       [156, 139, 244, 231, 233, 233, 233, 233, 233, 233, 233, 240, 193,\n",
              "        135,  94,  96, 153, 220, 238, 231, 233, 233, 233, 233, 233, 233,\n",
              "        233, 233],\n",
              "       [156, 138, 244, 231, 233, 233, 233, 233, 233, 233, 233, 232, 240,\n",
              "        241, 234, 235, 241, 236, 232, 233, 233, 233, 233, 233, 233, 233,\n",
              "        233, 233],\n",
              "       [158, 137, 244, 231, 233, 233, 233, 233, 233, 233, 233, 233, 231,\n",
              "        232, 233, 233, 231, 232, 233, 233, 233, 233, 233, 233, 233, 233,\n",
              "        233, 233],\n",
              "       [159, 137, 244, 231, 233, 233, 233, 233, 233, 233, 233, 233, 233,\n",
              "        233, 233, 233, 233, 233, 233, 233, 233, 233, 233, 233, 233, 233,\n",
              "        233, 233],\n",
              "       [159, 136, 243, 231, 233, 233, 233, 233, 233, 233, 233, 233, 233,\n",
              "        233, 233, 233, 233, 233, 233, 233, 233, 233, 233, 233, 233, 233,\n",
              "        233, 233],\n",
              "       [158, 134, 244, 231, 233, 233, 233, 233, 233, 233, 233, 233, 233,\n",
              "        233, 233, 233, 233, 233, 233, 233, 233, 233, 233, 233, 233, 233,\n",
              "        233, 233],\n",
              "       [161, 133, 245, 232, 234, 234, 234, 234, 234, 234, 234, 234, 234,\n",
              "        234, 234, 234, 234, 234, 234, 234, 234, 234, 234, 234, 234, 235,\n",
              "        235, 235],\n",
              "       [162, 131, 236, 222, 224, 224, 224, 224, 224, 224, 224, 224, 224,\n",
              "        223, 223, 223, 223, 223, 223, 223, 223, 223, 223, 223, 223, 221,\n",
              "        220, 220]], dtype=uint8)</pre></div><script>\n",
              "      (() => {\n",
              "      const titles = ['show data', 'hide data'];\n",
              "      let index = 0\n",
              "      document.querySelector('#id-ea2d15ff-a5ce-46cc-af32-b057599cbdbe button').onclick = (e) => {\n",
              "        document.querySelector('#id-ea2d15ff-a5ce-46cc-af32-b057599cbdbe').classList.toggle('show_array');\n",
              "        index = (++index) % 2;\n",
              "        document.querySelector('#id-ea2d15ff-a5ce-46cc-af32-b057599cbdbe button').textContent = titles[index];\n",
              "        e.preventDefault();\n",
              "        e.stopPropagation();\n",
              "      }\n",
              "      })();\n",
              "    </script>"
            ]
          },
          "metadata": {},
          "execution_count": 56
        }
      ]
    },
    {
      "cell_type": "code",
      "source": [
        "predictions = []\n",
        "for box in boxes:\n",
        "    # Assuming 'box' is a numpy array containing the image data\n",
        "    img = Image.fromarray(box)\n",
        "    resized_img = img.resize((28, 28), Image.ANTIALIAS)\n",
        "    reshaped_img = np.array(resized_img).reshape(1, 28, 28, 1)  # Add batch_size and channels dimensions\n",
        "    prediction = model.predict(reshaped_img)\n",
        "    predictions.append(prediction)  # Append the prediction for the single image\n",
        "\n",
        "# Print the predictions\n",
        "for i, prediction in enumerate(predictions):\n",
        "    max_index = np.argmax(prediction)\n",
        "    print(f\"Image {i}: Predicted digit {max_index}\")"
      ],
      "metadata": {
        "colab": {
          "base_uri": "https://localhost:8080/"
        },
        "id": "eNJrix7vgTKb",
        "outputId": "7edb0ff1-07fc-4694-9801-aaf6a82a8954"
      },
      "execution_count": null,
      "outputs": [
        {
          "output_type": "stream",
          "name": "stdout",
          "text": [
            "1/1 [==============================] - 0s 60ms/step\n",
            "1/1 [==============================] - 0s 21ms/step\n"
          ]
        },
        {
          "output_type": "stream",
          "name": "stderr",
          "text": [
            "<ipython-input-60-fd1e078f8835>:5: DeprecationWarning: ANTIALIAS is deprecated and will be removed in Pillow 10 (2023-07-01). Use LANCZOS or Resampling.LANCZOS instead.\n",
            "  resized_img = img.resize((28, 28), Image.ANTIALIAS)\n"
          ]
        },
        {
          "output_type": "stream",
          "name": "stdout",
          "text": [
            "1/1 [==============================] - 0s 21ms/step\n",
            "1/1 [==============================] - 0s 21ms/step\n",
            "1/1 [==============================] - 0s 20ms/step\n",
            "1/1 [==============================] - 0s 25ms/step\n",
            "1/1 [==============================] - 0s 22ms/step\n",
            "1/1 [==============================] - 0s 22ms/step\n",
            "1/1 [==============================] - 0s 21ms/step\n",
            "1/1 [==============================] - 0s 23ms/step\n",
            "1/1 [==============================] - 0s 24ms/step\n",
            "1/1 [==============================] - 0s 21ms/step\n",
            "1/1 [==============================] - 0s 21ms/step\n",
            "1/1 [==============================] - 0s 20ms/step\n",
            "1/1 [==============================] - 0s 21ms/step\n",
            "1/1 [==============================] - 0s 21ms/step\n",
            "1/1 [==============================] - 0s 21ms/step\n",
            "1/1 [==============================] - 0s 22ms/step\n",
            "1/1 [==============================] - 0s 25ms/step\n",
            "1/1 [==============================] - 0s 21ms/step\n",
            "1/1 [==============================] - 0s 23ms/step\n",
            "1/1 [==============================] - 0s 25ms/step\n",
            "1/1 [==============================] - 0s 20ms/step\n",
            "1/1 [==============================] - 0s 22ms/step\n",
            "1/1 [==============================] - 0s 21ms/step\n",
            "1/1 [==============================] - 0s 25ms/step\n",
            "1/1 [==============================] - 0s 25ms/step\n",
            "1/1 [==============================] - 0s 20ms/step\n",
            "1/1 [==============================] - 0s 21ms/step\n",
            "1/1 [==============================] - 0s 21ms/step\n",
            "1/1 [==============================] - 0s 20ms/step\n",
            "1/1 [==============================] - 0s 23ms/step\n",
            "1/1 [==============================] - 0s 22ms/step\n",
            "1/1 [==============================] - 0s 26ms/step\n",
            "1/1 [==============================] - 0s 20ms/step\n",
            "1/1 [==============================] - 0s 21ms/step\n",
            "1/1 [==============================] - 0s 21ms/step\n",
            "1/1 [==============================] - 0s 88ms/step\n",
            "1/1 [==============================] - 0s 33ms/step\n",
            "1/1 [==============================] - 0s 25ms/step\n",
            "1/1 [==============================] - 0s 23ms/step\n",
            "1/1 [==============================] - 0s 33ms/step\n",
            "1/1 [==============================] - 0s 30ms/step\n",
            "1/1 [==============================] - 0s 38ms/step\n",
            "1/1 [==============================] - 0s 33ms/step\n",
            "1/1 [==============================] - 0s 45ms/step\n",
            "1/1 [==============================] - 0s 32ms/step\n",
            "1/1 [==============================] - 0s 31ms/step\n",
            "1/1 [==============================] - 0s 32ms/step\n",
            "1/1 [==============================] - 0s 31ms/step\n",
            "1/1 [==============================] - 0s 30ms/step\n",
            "1/1 [==============================] - 0s 35ms/step\n",
            "1/1 [==============================] - 0s 33ms/step\n",
            "1/1 [==============================] - 0s 35ms/step\n",
            "1/1 [==============================] - 0s 41ms/step\n",
            "1/1 [==============================] - 0s 30ms/step\n",
            "1/1 [==============================] - 0s 30ms/step\n",
            "1/1 [==============================] - 0s 30ms/step\n",
            "1/1 [==============================] - 0s 33ms/step\n",
            "1/1 [==============================] - 0s 34ms/step\n",
            "1/1 [==============================] - 0s 36ms/step\n",
            "1/1 [==============================] - 0s 34ms/step\n",
            "1/1 [==============================] - 0s 34ms/step\n",
            "1/1 [==============================] - 0s 40ms/step\n",
            "1/1 [==============================] - 0s 35ms/step\n",
            "1/1 [==============================] - 0s 35ms/step\n",
            "1/1 [==============================] - 0s 35ms/step\n",
            "1/1 [==============================] - 0s 32ms/step\n",
            "1/1 [==============================] - 0s 22ms/step\n",
            "1/1 [==============================] - 0s 21ms/step\n",
            "1/1 [==============================] - 0s 23ms/step\n",
            "1/1 [==============================] - 0s 22ms/step\n",
            "1/1 [==============================] - 0s 22ms/step\n",
            "1/1 [==============================] - 0s 27ms/step\n",
            "1/1 [==============================] - 0s 25ms/step\n",
            "1/1 [==============================] - 0s 21ms/step\n",
            "1/1 [==============================] - 0s 22ms/step\n",
            "1/1 [==============================] - 0s 22ms/step\n",
            "1/1 [==============================] - 0s 21ms/step\n",
            "1/1 [==============================] - 0s 21ms/step\n",
            "1/1 [==============================] - 0s 21ms/step\n",
            "Image 0: Predicted digit 0\n",
            "Image 1: Predicted digit 0\n",
            "Image 2: Predicted digit 0\n",
            "Image 3: Predicted digit 0\n",
            "Image 4: Predicted digit 0\n",
            "Image 5: Predicted digit 0\n",
            "Image 6: Predicted digit 0\n",
            "Image 7: Predicted digit 0\n",
            "Image 8: Predicted digit 0\n",
            "Image 9: Predicted digit 0\n",
            "Image 10: Predicted digit 0\n",
            "Image 11: Predicted digit 0\n",
            "Image 12: Predicted digit 0\n",
            "Image 13: Predicted digit 0\n",
            "Image 14: Predicted digit 0\n",
            "Image 15: Predicted digit 0\n",
            "Image 16: Predicted digit 0\n",
            "Image 17: Predicted digit 0\n",
            "Image 18: Predicted digit 0\n",
            "Image 19: Predicted digit 0\n",
            "Image 20: Predicted digit 0\n",
            "Image 21: Predicted digit 0\n",
            "Image 22: Predicted digit 0\n",
            "Image 23: Predicted digit 0\n",
            "Image 24: Predicted digit 0\n",
            "Image 25: Predicted digit 0\n",
            "Image 26: Predicted digit 0\n",
            "Image 27: Predicted digit 0\n",
            "Image 28: Predicted digit 0\n",
            "Image 29: Predicted digit 0\n",
            "Image 30: Predicted digit 0\n",
            "Image 31: Predicted digit 0\n",
            "Image 32: Predicted digit 0\n",
            "Image 33: Predicted digit 0\n",
            "Image 34: Predicted digit 0\n",
            "Image 35: Predicted digit 0\n",
            "Image 36: Predicted digit 0\n",
            "Image 37: Predicted digit 0\n",
            "Image 38: Predicted digit 0\n",
            "Image 39: Predicted digit 0\n",
            "Image 40: Predicted digit 0\n",
            "Image 41: Predicted digit 0\n",
            "Image 42: Predicted digit 0\n",
            "Image 43: Predicted digit 0\n",
            "Image 44: Predicted digit 0\n",
            "Image 45: Predicted digit 0\n",
            "Image 46: Predicted digit 0\n",
            "Image 47: Predicted digit 0\n",
            "Image 48: Predicted digit 0\n",
            "Image 49: Predicted digit 0\n",
            "Image 50: Predicted digit 0\n",
            "Image 51: Predicted digit 0\n",
            "Image 52: Predicted digit 0\n",
            "Image 53: Predicted digit 0\n",
            "Image 54: Predicted digit 0\n",
            "Image 55: Predicted digit 0\n",
            "Image 56: Predicted digit 0\n",
            "Image 57: Predicted digit 0\n",
            "Image 58: Predicted digit 0\n",
            "Image 59: Predicted digit 0\n",
            "Image 60: Predicted digit 0\n",
            "Image 61: Predicted digit 0\n",
            "Image 62: Predicted digit 0\n",
            "Image 63: Predicted digit 0\n",
            "Image 64: Predicted digit 0\n",
            "Image 65: Predicted digit 0\n",
            "Image 66: Predicted digit 0\n",
            "Image 67: Predicted digit 0\n",
            "Image 68: Predicted digit 0\n",
            "Image 69: Predicted digit 0\n",
            "Image 70: Predicted digit 0\n",
            "Image 71: Predicted digit 0\n",
            "Image 72: Predicted digit 0\n",
            "Image 73: Predicted digit 0\n",
            "Image 74: Predicted digit 0\n",
            "Image 75: Predicted digit 0\n",
            "Image 76: Predicted digit 0\n",
            "Image 77: Predicted digit 0\n",
            "Image 78: Predicted digit 0\n",
            "Image 79: Predicted digit 0\n",
            "Image 80: Predicted digit 0\n"
          ]
        }
      ]
    },
    {
      "cell_type": "code",
      "source": [
        "for box in boxes:\n",
        "  cv2_imshow(box)"
      ],
      "metadata": {
        "colab": {
          "base_uri": "https://localhost:8080/",
          "height": 1000
        },
        "id": "ngEEMbCwbBXx",
        "outputId": "96f8c05e-afd9-4c29-8365-4330c38da180"
      },
      "execution_count": null,
      "outputs": [
        {
          "output_type": "display_data",
          "data": {
            "text/plain": [
              "<PIL.Image.Image image mode=L size=50x50>"
            ],
            "image/png": "[encoded data removed]"
          },
          "metadata": {}
        },
        {
          "output_type": "display_data",
          "data": {
            "text/plain": [
              "<PIL.Image.Image image mode=L size=50x50>"
            ],
            "image/png": "[encoded data removed]"
          },
          "metadata": {}
        },
        {
          "output_type": "display_data",
          "data": {
            "text/plain": [
              "<PIL.Image.Image image mode=L size=50x50>"
            ],
            "image/png": "[encoded data removed]"
          },
          "metadata": {}
        },
        {
          "output_type": "display_data",
          "data": {
            "text/plain": [
              "<PIL.Image.Image image mode=L size=50x50>"
            ],
            "image/png": "[encoded data removed]"
          },
          "metadata": {}
        },
        {
          "output_type": "display_data",
          "data": {
            "text/plain": [
              "<PIL.Image.Image image mode=L size=50x50>"
            ],
            "image/png": "[encoded data removed]"
          },
          "metadata": {}
        },
        {
          "output_type": "display_data",
          "data": {
            "text/plain": [
              "<PIL.Image.Image image mode=L size=50x50>"
            ],
            "image/png": "[encoded data removed]"
          },
          "metadata": {}
        },
        {
          "output_type": "display_data",
          "data": {
            "text/plain": [
              "<PIL.Image.Image image mode=L size=50x50>"
            ],
            "image/png": "[encoded data removed]"
          },
          "metadata": {}
        },
        {
          "output_type": "display_data",
          "data": {
            "text/plain": [
              "<PIL.Image.Image image mode=L size=50x50>"
            ],
            "image/png": "[encoded data removed]"
          },
          "metadata": {}
        },
        {
          "output_type": "display_data",
          "data": {
            "text/plain": [
              "<PIL.Image.Image image mode=L size=50x50>"
            ],
            "image/png": "[encoded data removed]"
          },
          "metadata": {}
        },
        {
          "output_type": "display_data",
          "data": {
            "text/plain": [
              "<PIL.Image.Image image mode=L size=50x50>"
            ],
            "image/png": "[encoded data removed]"
          },
          "metadata": {}
        },
        {
          "output_type": "display_data",
          "data": {
            "text/plain": [
              "<PIL.Image.Image image mode=L size=50x50>"
            ],
            "image/png": "[encoded data removed]"
          },
          "metadata": {}
        },
        {
          "output_type": "display_data",
          "data": {
            "text/plain": [
              "<PIL.Image.Image image mode=L size=50x50>"
            ],
            "image/png": "[encoded data removed]"
          },
          "metadata": {}
        },
        {
          "output_type": "display_data",
          "data": {
            "text/plain": [
              "<PIL.Image.Image image mode=L size=50x50>"
            ],
            "image/png": "[encoded data removed]"
          },
          "metadata": {}
        },
        {
          "output_type": "display_data",
          "data": {
            "text/plain": [
              "<PIL.Image.Image image mode=L size=50x50>"
            ],
            "image/png": "[encoded data removed]"
          },
          "metadata": {}
        },
        {
          "output_type": "display_data",
          "data": {
            "text/plain": [
              "<PIL.Image.Image image mode=L size=50x50>"
            ],
            "image/png": "[encoded data removed]"
          },
          "metadata": {}
        },
        {
          "output_type": "display_data",
          "data": {
            "text/plain": [
              "<PIL.Image.Image image mode=L size=50x50>"
            ],
            "image/png": "[encoded data removed]"
          },
          "metadata": {}
        },
        {
          "output_type": "display_data",
          "data": {
            "text/plain": [
              "<PIL.Image.Image image mode=L size=50x50>"
            ],
            "image/png": "[encoded data removed]"
          },
          "metadata": {}
        },
        {
          "output_type": "display_data",
          "data": {
            "text/plain": [
              "<PIL.Image.Image image mode=L size=50x50>"
            ],
            "image/png": "[encoded data removed]"
          },
          "metadata": {}
        },
        {
          "output_type": "display_data",
          "data": {
            "text/plain": [
              "<PIL.Image.Image image mode=L size=50x50>"
            ],
            "image/png": "[encoded data removed]"
          },
          "metadata": {}
        },
        {
          "output_type": "display_data",
          "data": {
            "text/plain": [
              "<PIL.Image.Image image mode=L size=50x50>"
            ],
            "image/png": "[encoded data removed]"
          },
          "metadata": {}
        },
        {
          "output_type": "display_data",
          "data": {
            "text/plain": [
              "<PIL.Image.Image image mode=L size=50x50>"
            ],
            "image/png": "[encoded data removed]"
          },
          "metadata": {}
        },
        {
          "output_type": "display_data",
          "data": {
            "text/plain": [
              "<PIL.Image.Image image mode=L size=50x50>"
            ],
            "image/png": "[encoded data removed]"
          },
          "metadata": {}
        },
        {
          "output_type": "display_data",
          "data": {
            "text/plain": [
              "<PIL.Image.Image image mode=L size=50x50>"
            ],
            "image/png": "[encoded data removed]"
          },
          "metadata": {}
        },
        {
          "output_type": "display_data",
          "data": {
            "text/plain": [
              "<PIL.Image.Image image mode=L size=50x50>"
            ],
            "image/png": "[encoded data removed]"
          },
          "metadata": {}
        },
        {
          "output_type": "display_data",
          "data": {
            "text/plain": [
              "<PIL.Image.Image image mode=L size=50x50>"
            ],
            "image/png": "[encoded data removed]"
          },
          "metadata": {}
        },
        {
          "output_type": "display_data",
          "data": {
            "text/plain": [
              "<PIL.Image.Image image mode=L size=50x50>"
            ],
            "image/png": "[encoded data removed]"
          },
          "metadata": {}
        },
        {
          "output_type": "display_data",
          "data": {
            "text/plain": [
              "<PIL.Image.Image image mode=L size=50x50>"
            ],
            "image/png": "[encoded data removed]"
          },
          "metadata": {}
        },
        {
          "output_type": "display_data",
          "data": {
            "text/plain": [
              "<PIL.Image.Image image mode=L size=50x50>"
            ],
            "image/png": "[encoded data removed]"
          },
          "metadata": {}
        },
        {
          "output_type": "display_data",
          "data": {
            "text/plain": [
              "<PIL.Image.Image image mode=L size=50x50>"
            ],
            "image/png": "[encoded data removed]"
          },
          "metadata": {}
        },
        {
          "output_type": "display_data",
          "data": {
            "text/plain": [
              "<PIL.Image.Image image mode=L size=50x50>"
            ],
            "image/png": "[encoded data removed]"
          },
          "metadata": {}
        },
        {
          "output_type": "display_data",
          "data": {
            "text/plain": [
              "<PIL.Image.Image image mode=L size=50x50>"
            ],
            "image/png": "[encoded data removed]"
          },
          "metadata": {}
        },
        {
          "output_type": "display_data",
          "data": {
            "text/plain": [
              "<PIL.Image.Image image mode=L size=50x50>"
            ],
            "image/png": "[encoded data removed]"
          },
          "metadata": {}
        },
        {
          "output_type": "display_data",
          "data": {
            "text/plain": [
              "<PIL.Image.Image image mode=L size=50x50>"
            ],
            "image/png": "[encoded data removed]"
          },
          "metadata": {}
        },
        {
          "output_type": "display_data",
          "data": {
            "text/plain": [
              "<PIL.Image.Image image mode=L size=50x50>"
            ],
            "image/png": "[encoded data removed]"
          },
          "metadata": {}
        },
        {
          "output_type": "display_data",
          "data": {
            "text/plain": [
              "<PIL.Image.Image image mode=L size=50x50>"
            ],
            "image/png": "[encoded data removed]"
          },
          "metadata": {}
        },
        {
          "output_type": "display_data",
          "data": {
            "text/plain": [
              "<PIL.Image.Image image mode=L size=50x50>"
            ],
            "image/png": "[encoded data removed]"
          },
          "metadata": {}
        },
        {
          "output_type": "display_data",
          "data": {
            "text/plain": [
              "<PIL.Image.Image image mode=L size=50x50>"
            ],
            "image/png": "[encoded data removed]"
          },
          "metadata": {}
        },
        {
          "output_type": "display_data",
          "data": {
            "text/plain": [
              "<PIL.Image.Image image mode=L size=50x50>"
            ],
            "image/png": "[encoded data removed]"
          },
          "metadata": {}
        },
        {
          "output_type": "display_data",
          "data": {
            "text/plain": [
              "<PIL.Image.Image image mode=L size=50x50>"
            ],
            "image/png": "[encoded data removed]"
          },
          "metadata": {}
        },
        {
          "output_type": "display_data",
          "data": {
            "text/plain": [
              "<PIL.Image.Image image mode=L size=50x50>"
            ],
            "image/png": "[encoded data removed]"
          },
          "metadata": {}
        },
        {
          "output_type": "display_data",
          "data": {
            "text/plain": [
              "<PIL.Image.Image image mode=L size=50x50>"
            ],
            "image/png": "[encoded data removed]"
          },
          "metadata": {}
        },
        {
          "output_type": "display_data",
          "data": {
            "text/plain": [
              "<PIL.Image.Image image mode=L size=50x50>"
            ],
            "image/png": "[encoded data removed]"
          },
          "metadata": {}
        },
        {
          "output_type": "display_data",
          "data": {
            "text/plain": [
              "<PIL.Image.Image image mode=L size=50x50>"
            ],
            "image/png": "[encoded data removed]"
          },
          "metadata": {}
        },
        {
          "output_type": "display_data",
          "data": {
            "text/plain": [
              "<PIL.Image.Image image mode=L size=50x50>"
            ],
            "image/png": "[encoded data removed]"
          },
          "metadata": {}
        },
        {
          "output_type": "display_data",
          "data": {
            "text/plain": [
              "<PIL.Image.Image image mode=L size=50x50>"
            ],
            "image/png": "[encoded data removed]"
          },
          "metadata": {}
        },
        {
          "output_type": "display_data",
          "data": {
            "text/plain": [
              "<PIL.Image.Image image mode=L size=50x50>"
            ],
            "image/png": "[encoded data removed]"
          },
          "metadata": {}
        },
        {
          "output_type": "display_data",
          "data": {
            "text/plain": [
              "<PIL.Image.Image image mode=L size=50x50>"
            ],
            "image/png": "[encoded data removed]"
          },
          "metadata": {}
        },
        {
          "output_type": "display_data",
          "data": {
            "text/plain": [
              "<PIL.Image.Image image mode=L size=50x50>"
            ],
            "image/png": "[encoded data removed]"
          },
          "metadata": {}
        },
        {
          "output_type": "display_data",
          "data": {
            "text/plain": [
              "<PIL.Image.Image image mode=L size=50x50>"
            ],
            "image/png": "[encoded data removed]"
          },
          "metadata": {}
        },
        {
          "output_type": "display_data",
          "data": {
            "text/plain": [
              "<PIL.Image.Image image mode=L size=50x50>"
            ],
            "image/png": "[encoded data removed]"
          },
          "metadata": {}
        },
        {
          "output_type": "display_data",
          "data": {
            "text/plain": [
              "<PIL.Image.Image image mode=L size=50x50>"
            ],
            "image/png": "[encoded data removed]"
          },
          "metadata": {}
        },
        {
          "output_type": "display_data",
          "data": {
            "text/plain": [
              "<PIL.Image.Image image mode=L size=50x50>"
            ],
            "image/png": "[encoded data removed]"
          },
          "metadata": {}
        },
        {
          "output_type": "display_data",
          "data": {
            "text/plain": [
              "<PIL.Image.Image image mode=L size=50x50>"
            ],
            "image/png": "[encoded data removed]"
          },
          "metadata": {}
        },
        {
          "output_type": "display_data",
          "data": {
            "text/plain": [
              "<PIL.Image.Image image mode=L size=50x50>"
            ],
            "image/png": "[encoded data removed]"
          },
          "metadata": {}
        },
        {
          "output_type": "display_data",
          "data": {
            "text/plain": [
              "<PIL.Image.Image image mode=L size=50x50>"
            ],
            "image/png": "[encoded data removed]"
          },
          "metadata": {}
        },
        {
          "output_type": "display_data",
          "data": {
            "text/plain": [
              "<PIL.Image.Image image mode=L size=50x50>"
            ],
            "image/png": "[encoded data removed]"
          },
          "metadata": {}
        },
        {
          "output_type": "display_data",
          "data": {
            "text/plain": [
              "<PIL.Image.Image image mode=L size=50x50>"
            ],
            "image/png": "[encoded data removed]"
          },
          "metadata": {}
        },
        {
          "output_type": "display_data",
          "data": {
            "text/plain": [
              "<PIL.Image.Image image mode=L size=50x50>"
            ],
            "image/png": "[encoded data removed]"
          },
          "metadata": {}
        },
        {
          "output_type": "display_data",
          "data": {
            "text/plain": [
              "<PIL.Image.Image image mode=L size=50x50>"
            ],
            "image/png": "[encoded data removed]"
          },
          "metadata": {}
        },
        {
          "output_type": "display_data",
          "data": {
            "text/plain": [
              "<PIL.Image.Image image mode=L size=50x50>"
            ],
            "image/png": "[encoded data removed]"
          },
          "metadata": {}
        },
        {
          "output_type": "display_data",
          "data": {
            "text/plain": [
              "<PIL.Image.Image image mode=L size=50x50>"
            ],
            "image/png": "[encoded data removed]"
          },
          "metadata": {}
        },
        {
          "output_type": "display_data",
          "data": {
            "text/plain": [
              "<PIL.Image.Image image mode=L size=50x50>"
            ],
            "image/png": "[encoded data removed]"
          },
          "metadata": {}
        },
        {
          "output_type": "display_data",
          "data": {
            "text/plain": [
              "<PIL.Image.Image image mode=L size=50x50>"
            ],
            "image/png": "[encoded data removed]"
          },
          "metadata": {}
        },
        {
          "output_type": "display_data",
          "data": {
            "text/plain": [
              "<PIL.Image.Image image mode=L size=50x50>"
            ],
            "image/png": "[encoded data removed]"
          },
          "metadata": {}
        },
        {
          "output_type": "display_data",
          "data": {
            "text/plain": [
              "<PIL.Image.Image image mode=L size=50x50>"
            ],
            "image/png": "[encoded data removed]"
          },
          "metadata": {}
        },
        {
          "output_type": "display_data",
          "data": {
            "text/plain": [
              "<PIL.Image.Image image mode=L size=50x50>"
            ],
            "image/png": "[encoded data removed]"
          },
          "metadata": {}
        },
        {
          "output_type": "display_data",
          "data": {
            "text/plain": [
              "<PIL.Image.Image image mode=L size=50x50>"
            ],
            "image/png": "[encoded data removed]"
          },
          "metadata": {}
        },
        {
          "output_type": "display_data",
          "data": {
            "text/plain": [
              "<PIL.Image.Image image mode=L size=50x50>"
            ],
            "image/png": "[encoded data removed]"
          },
          "metadata": {}
        },
        {
          "output_type": "display_data",
          "data": {
            "text/plain": [
              "<PIL.Image.Image image mode=L size=50x50>"
            ],
            "image/png": "[encoded data removed]"
          },
          "metadata": {}
        },
        {
          "output_type": "display_data",
          "data": {
            "text/plain": [
              "<PIL.Image.Image image mode=L size=50x50>"
            ],
            "image/png": "[encoded data removed]"
          },
          "metadata": {}
        },
        {
          "output_type": "display_data",
          "data": {
            "text/plain": [
              "<PIL.Image.Image image mode=L size=50x50>"
            ],
            "image/png": "[encoded data removed]"
          },
          "metadata": {}
        },
        {
          "output_type": "display_data",
          "data": {
            "text/plain": [
              "<PIL.Image.Image image mode=L size=50x50>"
            ],
            "image/png": "[encoded data removed]"
          },
          "metadata": {}
        },
        {
          "output_type": "display_data",
          "data": {
            "text/plain": [
              "<PIL.Image.Image image mode=L size=50x50>"
            ],
            "image/png": "[encoded data removed]"
          },
          "metadata": {}
        },
        {
          "output_type": "display_data",
          "data": {
            "text/plain": [
              "<PIL.Image.Image image mode=L size=50x50>"
            ],
            "image/png": "[encoded data removed]"
          },
          "metadata": {}
        },
        {
          "output_type": "display_data",
          "data": {
            "text/plain": [
              "<PIL.Image.Image image mode=L size=50x50>"
            ],
            "image/png": "[encoded data removed]"
          },
          "metadata": {}
        },
        {
          "output_type": "display_data",
          "data": {
            "text/plain": [
              "<PIL.Image.Image image mode=L size=50x50>"
            ],
            "image/png": "[encoded data removed]"
          },
          "metadata": {}
        },
        {
          "output_type": "display_data",
          "data": {
            "text/plain": [
              "<PIL.Image.Image image mode=L size=50x50>"
            ],
            "image/png": "[encoded data removed]"
          },
          "metadata": {}
        },
        {
          "output_type": "display_data",
          "data": {
            "text/plain": [
              "<PIL.Image.Image image mode=L size=50x50>"
            ],
            "image/png": "[encoded data removed]"
          },
          "metadata": {}
        },
        {
          "output_type": "display_data",
          "data": {
            "text/plain": [
              "<PIL.Image.Image image mode=L size=50x50>"
            ],
            "image/png": "[encoded data removed]"
          },
          "metadata": {}
        },
        {
          "output_type": "display_data",
          "data": {
            "text/plain": [
              "<PIL.Image.Image image mode=L size=50x50>"
            ],
            "image/png": "[encoded data removed]"
          },
          "metadata": {}
        },
        {
          "output_type": "display_data",
          "data": {
            "text/plain": [
              "<PIL.Image.Image image mode=L size=50x50>"
            ],
            "image/png": "[encoded data removed]"
          },
          "metadata": {}
        }
      ]
    },
    {
      "cell_type": "code",
      "source": [],
      "metadata": {
        "id": "z8XqYldWf-96"
      },
      "execution_count": null,
      "outputs": []
    }
  ],
  "metadata": {
    "colab": {
      "provenance": [],
      "authorship_tag": "ABX9TyMi+wruMJF0cq75DU4XCZfO",
      "include_colab_link": true
    },
    "kernelspec": {
      "display_name": "Python 3",
      "name": "python3"
    },
    "language_info": {
      "name": "python"
    }
  },
  "nbformat": 4,
  "nbformat_minor": 0
}